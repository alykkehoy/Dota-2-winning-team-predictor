{
 "cells": [
  {
   "cell_type": "code",
   "execution_count": 1,
   "metadata": {},
   "outputs": [],
   "source": [
    "import pandas as pd \n",
    "import sklearn as sklearn\n",
    "import matplotlib.pyplot as plt"
   ]
  },
  {
   "cell_type": "code",
   "execution_count": 2,
   "metadata": {},
   "outputs": [],
   "source": [
    "#loading data\n",
    "dota2_matches = pd.read_csv('C:/Users/ashis/Documents/Data/new_match_list.csv')\n",
    "radiant_win = dota2_matches['r_win']\n",
    "#Training data and labels\n",
    "X = dota2_matches.iloc[:, 0:10].values \n",
    "labels = radiant_win.values.astype(int)\n",
    "\n",
    "from sklearn import preprocessing\n",
    "normalized_x = preprocessing.normalize(X)\n",
    "normalized_x.shape\n",
    "from sklearn.model_selection import train_test_split\n",
    "#Splitting data into training and testing sets\n",
    "x_train, x_test, y_train, y_test = train_test_split(normalized_x, labels, test_size=0.3, random_state=0)"
   ]
  },
  {
   "cell_type": "code",
   "execution_count": 3,
   "metadata": {},
   "outputs": [],
   "source": [
    "#Calculating accuracy\n",
    "def accuracy(all_predictions):\n",
    "    count = 0\n",
    "    for i in range(0, len(all_predictions)):\n",
    "        if all_predictions[i] != labels[i]:\n",
    "            count += 1\n",
    "\n",
    "    accuracy = (count/114686)*100  \n",
    "    return accuracy"
   ]
  },
  {
   "cell_type": "code",
   "execution_count": 6,
   "metadata": {},
   "outputs": [
    {
     "name": "stdout",
     "output_type": "stream",
     "text": [
      "Dire win  Model Accuracy: 51.057670509042076\n"
     ]
    }
   ],
   "source": [
    "import pickle\n",
    "filename = 'Dota2_unsupervised.sav'\n",
    "loaded_model = pickle.load(open(filename, 'rb'))\n",
    "all_predictions = loaded_model.predict(X.data)\n",
    "result = loaded_model.predict([[5, 128, 93, 18, 13, 16, 32, 71, 86, 22]])\n",
    "if(result[0] == 1):\n",
    "    print(\"Radiant win\", \"Model Accuracy\", accuracy(all_predictions))\n",
    "else:\n",
    "    print(\"Dire win\", \" Model Accuracy:\", accuracy(all_predictions))"
   ]
  },
  {
   "cell_type": "code",
   "execution_count": null,
   "metadata": {},
   "outputs": [],
   "source": []
  }
 ],
 "metadata": {
  "kernelspec": {
   "display_name": "Python 3",
   "language": "python",
   "name": "python3"
  },
  "language_info": {
   "codemirror_mode": {
    "name": "ipython",
    "version": 3
   },
   "file_extension": ".py",
   "mimetype": "text/x-python",
   "name": "python",
   "nbconvert_exporter": "python",
   "pygments_lexer": "ipython3",
   "version": "3.8.1"
  }
 },
 "nbformat": 4,
 "nbformat_minor": 4
}
