{
 "cells": [
  {
   "cell_type": "code",
   "execution_count": 1,
   "metadata": {},
   "outputs": [],
   "source": [
    "import pandas as pd\n",
    "import numpy as np\n",
    "import matplotlib.pyplot as plt\n",
    "from sklearn import ensemble\n",
    "from sklearn import metrics\n",
    "from sklearn.model_selection import train_test_split"
   ]
  },
  {
   "cell_type": "code",
   "execution_count": 2,
   "metadata": {},
   "outputs": [],
   "source": [
    "matches = pd.read_csv('C:/Users/ashis/Documents/Data/match.csv', index_col=0)\n",
    "players = pd.read_csv('C:/Users/ashis/Documents/Data/players.csv')\n",
    "hero_names = pd.read_csv('C:/Users/ashis/Documents/Data/hero_names.csv')\n",
    "#cluster_regions = pd.read_csv('C:/Users/ashis/Documents/Data/cluster_regions.csv')\n",
    "#items = pd.read_csv('C:/Users/ashis/Documents/Data/item_ids.csv')\n",
    "\n",
    "#test_labels = pd.read_csv('C:/Users/ashis/Documents/Data/test_labels.csv', index_col=0)\n",
    "#test_players = pd.read_csv('C:/Users/ashis/Documents/Data/test_player.csv')\n",
    "#train_labels = matches['radiant_win'].astype(int)\n",
    "#test_players = pd.read_csv('C:/Users/ashis/Documents/Data/test_player.csv')"
   ]
  },
  {
   "cell_type": "markdown",
   "metadata": {},
   "source": [
    "# Input variables include 500,000 player samples with 73 features\n",
    "# 50,000 matches with 12 features"
   ]
  },
  {
   "cell_type": "code",
   "execution_count": 3,
   "metadata": {},
   "outputs": [
    {
     "name": "stdout",
     "output_type": "stream",
     "text": [
      "(500000, 73)\n",
      "(50000, 12)\n"
     ]
    },
    {
     "data": {
      "text/html": [
       "<div>\n",
       "<style scoped>\n",
       "    .dataframe tbody tr th:only-of-type {\n",
       "        vertical-align: middle;\n",
       "    }\n",
       "\n",
       "    .dataframe tbody tr th {\n",
       "        vertical-align: top;\n",
       "    }\n",
       "\n",
       "    .dataframe thead th {\n",
       "        text-align: right;\n",
       "    }\n",
       "</style>\n",
       "<table border=\"1\" class=\"dataframe\">\n",
       "  <thead>\n",
       "    <tr style=\"text-align: right;\">\n",
       "      <th></th>\n",
       "      <th>match_id</th>\n",
       "      <th>account_id</th>\n",
       "      <th>hero_id</th>\n",
       "      <th>player_slot</th>\n",
       "      <th>gold</th>\n",
       "      <th>gold_spent</th>\n",
       "      <th>gold_per_min</th>\n",
       "      <th>xp_per_min</th>\n",
       "      <th>kills</th>\n",
       "      <th>deaths</th>\n",
       "      <th>assists</th>\n",
       "      <th>denies</th>\n",
       "      <th>last_hits</th>\n",
       "      <th>stuns</th>\n",
       "      <th>hero_damage</th>\n",
       "      <th>hero_healing</th>\n",
       "      <th>tower_damage</th>\n",
       "    </tr>\n",
       "  </thead>\n",
       "  <tbody>\n",
       "    <tr>\n",
       "      <th>0</th>\n",
       "      <td>0</td>\n",
       "      <td>0</td>\n",
       "      <td>86</td>\n",
       "      <td>0</td>\n",
       "      <td>3261</td>\n",
       "      <td>10960</td>\n",
       "      <td>347</td>\n",
       "      <td>362</td>\n",
       "      <td>9</td>\n",
       "      <td>3</td>\n",
       "      <td>18</td>\n",
       "      <td>1</td>\n",
       "      <td>30</td>\n",
       "      <td>76.7356</td>\n",
       "      <td>8690</td>\n",
       "      <td>218</td>\n",
       "      <td>143</td>\n",
       "    </tr>\n",
       "    <tr>\n",
       "      <th>1</th>\n",
       "      <td>0</td>\n",
       "      <td>1</td>\n",
       "      <td>51</td>\n",
       "      <td>1</td>\n",
       "      <td>2954</td>\n",
       "      <td>17760</td>\n",
       "      <td>494</td>\n",
       "      <td>659</td>\n",
       "      <td>13</td>\n",
       "      <td>3</td>\n",
       "      <td>18</td>\n",
       "      <td>9</td>\n",
       "      <td>109</td>\n",
       "      <td>87.4164</td>\n",
       "      <td>23747</td>\n",
       "      <td>0</td>\n",
       "      <td>423</td>\n",
       "    </tr>\n",
       "    <tr>\n",
       "      <th>2</th>\n",
       "      <td>0</td>\n",
       "      <td>0</td>\n",
       "      <td>83</td>\n",
       "      <td>2</td>\n",
       "      <td>110</td>\n",
       "      <td>12195</td>\n",
       "      <td>350</td>\n",
       "      <td>385</td>\n",
       "      <td>0</td>\n",
       "      <td>4</td>\n",
       "      <td>15</td>\n",
       "      <td>1</td>\n",
       "      <td>58</td>\n",
       "      <td>None</td>\n",
       "      <td>4217</td>\n",
       "      <td>1595</td>\n",
       "      <td>399</td>\n",
       "    </tr>\n",
       "    <tr>\n",
       "      <th>3</th>\n",
       "      <td>0</td>\n",
       "      <td>2</td>\n",
       "      <td>11</td>\n",
       "      <td>3</td>\n",
       "      <td>1179</td>\n",
       "      <td>22505</td>\n",
       "      <td>599</td>\n",
       "      <td>605</td>\n",
       "      <td>8</td>\n",
       "      <td>4</td>\n",
       "      <td>19</td>\n",
       "      <td>6</td>\n",
       "      <td>271</td>\n",
       "      <td>None</td>\n",
       "      <td>14832</td>\n",
       "      <td>2714</td>\n",
       "      <td>6055</td>\n",
       "    </tr>\n",
       "    <tr>\n",
       "      <th>4</th>\n",
       "      <td>0</td>\n",
       "      <td>3</td>\n",
       "      <td>67</td>\n",
       "      <td>4</td>\n",
       "      <td>3307</td>\n",
       "      <td>23825</td>\n",
       "      <td>613</td>\n",
       "      <td>762</td>\n",
       "      <td>20</td>\n",
       "      <td>3</td>\n",
       "      <td>17</td>\n",
       "      <td>13</td>\n",
       "      <td>245</td>\n",
       "      <td>None</td>\n",
       "      <td>33740</td>\n",
       "      <td>243</td>\n",
       "      <td>1833</td>\n",
       "    </tr>\n",
       "  </tbody>\n",
       "</table>\n",
       "</div>"
      ],
      "text/plain": [
       "   match_id  account_id  hero_id  player_slot  gold  gold_spent  gold_per_min  \\\n",
       "0         0           0       86            0  3261       10960           347   \n",
       "1         0           1       51            1  2954       17760           494   \n",
       "2         0           0       83            2   110       12195           350   \n",
       "3         0           2       11            3  1179       22505           599   \n",
       "4         0           3       67            4  3307       23825           613   \n",
       "\n",
       "   xp_per_min  kills  deaths  assists  denies  last_hits    stuns  \\\n",
       "0         362      9       3       18       1         30  76.7356   \n",
       "1         659     13       3       18       9        109  87.4164   \n",
       "2         385      0       4       15       1         58     None   \n",
       "3         605      8       4       19       6        271     None   \n",
       "4         762     20       3       17      13        245     None   \n",
       "\n",
       "   hero_damage  hero_healing  tower_damage  \n",
       "0         8690           218           143  \n",
       "1        23747             0           423  \n",
       "2         4217          1595           399  \n",
       "3        14832          2714          6055  \n",
       "4        33740           243          1833  "
      ]
     },
     "execution_count": 3,
     "metadata": {},
     "output_type": "execute_result"
    }
   ],
   "source": [
    "data_set = players[['match_id', 'account_id', 'hero_id', 'player_slot', 'gold',\n",
    "       'gold_spent', 'gold_per_min', 'xp_per_min', 'kills', 'deaths',\n",
    "       'assists', 'denies', 'last_hits', 'stuns', 'hero_damage',\n",
    "       'hero_healing', 'tower_damage']]\n",
    "print(players.shape)\n",
    "print(matches.shape)\n",
    "data_set.head()"
   ]
  },
  {
   "cell_type": "markdown",
   "metadata": {},
   "source": [
    "# Graphical representation of some features of interest in the dataset"
   ]
  },
  {
   "cell_type": "code",
   "execution_count": 5,
   "metadata": {},
   "outputs": [
    {
     "data": {
      "image/png": "[encoded data removed]",
      "text/plain": [
       "<Figure size 432x288 with 1 Axes>"
      ]
     },
     "metadata": {
      "needs_background": "light"
     },
     "output_type": "display_data"
    }
   ],
   "source": [
    "#Graphical representation of Heroes versus number of hero_id\n",
    "fig = plt.figure()\n",
    "fig.suptitle('Graphical representation of Heroes versus number of hero_ids', fontsize=20)\n",
    "num_heroes = len(hero_names)\n",
    "plt.hist(players['hero_id'], num_heroes)\n",
    "plt.xlabel('112 Heroes', fontsize=18)\n",
    "plt.ylabel('Frequency', fontsize=18)\n",
    "plt.show()"
   ]
  },
  {
   "cell_type": "code",
   "execution_count": 6,
   "metadata": {
    "scrolled": true
   },
   "outputs": [
    {
     "name": "stdout",
     "output_type": "stream",
     "text": [
      "   Hero_id  frequency\n",
      "0       21      20881\n",
      "1       11      17007\n",
      "2       74      11676\n",
      "3        7      11323\n",
      "4       28      11181\n"
     ]
    }
   ],
   "source": [
    "#Detailing how frequently certain players are being chosen\n",
    "kills_counts = players['hero_id'].value_counts().rename_axis('Hero_id').reset_index(name='frequency')\n",
    "print(kills_counts.head())"
   ]
  },
  {
   "cell_type": "code",
   "execution_count": 7,
   "metadata": {},
   "outputs": [
    {
     "data": {
      "image/png": "[encoded data removed]",
      "text/plain": [
       "<Figure size 432x288 with 1 Axes>"
      ]
     },
     "metadata": {
      "needs_background": "light"
     },
     "output_type": "display_data"
    }
   ],
   "source": [
    "#Graphical representation of Heroes versus the number of kills\n",
    "x = players['hero_id']\n",
    "y = players['kills']\n",
    "\n",
    "# plotting points as a scatter plot \n",
    "plt.scatter(x, y, label= \"stars\", color= \"green\",  \n",
    "            marker= \"*\", s=0.001)\n",
    "# x-axis label \n",
    "plt.xlabel('Heroes', fontsize=18) \n",
    "# frequency label \n",
    "plt.ylabel('Number of kills', fontsize=18) \n",
    "# plot title \n",
    "plt.title('Graphical representation of Heroes versus the number of kills', fontsize=18) \n",
    "# showing legend \n",
    "plt.legend() \n",
    "  \n",
    "# function to show the plot \n",
    "plt.show() "
   ]
  },
  {
   "cell_type": "code",
   "execution_count": 8,
   "metadata": {},
   "outputs": [
    {
     "data": {
      "image/png": "[encoded data removed]",
      "text/plain": [
       "<Figure size 432x288 with 1 Axes>"
      ]
     },
     "metadata": {
      "needs_background": "light"
     },
     "output_type": "display_data"
    }
   ],
   "source": [
    "#Graphical representation of Heroes versus the number of deaths\n",
    "x = players['hero_id']\n",
    "y = players['deaths']\n",
    "\n",
    "# plotting points as a scatter plot \n",
    "plt.scatter(x, y, label= \"stars\", color= \"green\",  \n",
    "            marker= \"*\", s=0.001)\n",
    "# x-axis label \n",
    "plt.xlabel('Heroes', fontsize=18) \n",
    "# frequency label \n",
    "plt.ylabel('Number of deaths', fontsize=18) \n",
    "# plot title \n",
    "plt.title('Graphical representation of Heroes versus the number of deaths', fontsize=18) \n",
    "# showing legend \n",
    "plt.legend() \n",
    "  \n",
    "# function to show the plot \n",
    "plt.show()"
   ]
  },
  {
   "cell_type": "code",
   "execution_count": 9,
   "metadata": {},
   "outputs": [
    {
     "data": {
      "image/png": "[encoded data removed]",
      "text/plain": [
       "<Figure size 432x288 with 1 Axes>"
      ]
     },
     "metadata": {
      "needs_background": "light"
     },
     "output_type": "display_data"
    }
   ],
   "source": [
    "#Graphical representation of Heroes versus the number of deaths\n",
    "x = players['hero_id']\n",
    "y = players['hero_healing']\n",
    "\n",
    "# plotting points as a scatter plot \n",
    "plt.scatter(x, y, label= \"stars\", color= \"green\",  \n",
    "            marker= \"*\", s=0.001)\n",
    "# x-axis label \n",
    "plt.xlabel('Heroes', fontsize=18) \n",
    "# frequency label \n",
    "plt.ylabel('Hero Healing', fontsize=18) \n",
    "# plot title \n",
    "plt.title('Graphical representation of Heroes versus Hero Healing', fontsize=18) \n",
    "# showing legend \n",
    "plt.legend() \n",
    "  \n",
    "# function to show the plot \n",
    "plt.show()"
   ]
  },
  {
   "cell_type": "markdown",
   "metadata": {},
   "source": [
    "# Writing code to generate a scatterplot of Heroes versus Number of Wins"
   ]
  },
  {
   "cell_type": "code",
   "execution_count": 10,
   "metadata": {},
   "outputs": [],
   "source": [
    "data_set = players[['match_id', 'account_id', 'hero_id', 'player_slot', 'gold',\n",
    "       'gold_spent', 'gold_per_min', 'xp_per_min', 'kills', 'deaths',\n",
    "       'assists', 'denies', 'last_hits', 'stuns', 'hero_damage',\n",
    "       'hero_healing', 'tower_damage']]"
   ]
  },
  {
   "cell_type": "code",
   "execution_count": 11,
   "metadata": {},
   "outputs": [],
   "source": [
    "new_win = []\n",
    "radiant_win = matches['radiant_win']\n",
    "for i in radiant_win:\n",
    "    for j in range(0, 5):\n",
    "        new_win.append(i)\n",
    "    if(i == False):\n",
    "        for k in range(0, 5):\n",
    "            new_win.append(True)\n",
    "    else:\n",
    "        for k in range(0, 5):\n",
    "            new_win.append(False)"
   ]
  },
  {
   "cell_type": "code",
   "execution_count": 12,
   "metadata": {},
   "outputs": [
    {
     "name": "stdout",
     "output_type": "stream",
     "text": [
      "500000\n"
     ]
    },
    {
     "name": "stderr",
     "output_type": "stream",
     "text": [
      "<ipython-input-12-191b722fdd20>:2: SettingWithCopyWarning: \n",
      "A value is trying to be set on a copy of a slice from a DataFrame.\n",
      "Try using .loc[row_indexer,col_indexer] = value instead\n",
      "\n",
      "See the caveats in the documentation: https://pandas.pydata.org/pandas-docs/stable/user_guide/indexing.html#returning-a-view-versus-a-copy\n",
      "  data_set['win'] = new_win\n",
      "<ipython-input-12-191b722fdd20>:3: SettingWithCopyWarning: \n",
      "A value is trying to be set on a copy of a slice from a DataFrame.\n",
      "Try using .loc[row_indexer,col_indexer] = value instead\n",
      "\n",
      "See the caveats in the documentation: https://pandas.pydata.org/pandas-docs/stable/user_guide/indexing.html#returning-a-view-versus-a-copy\n",
      "  data_set['win'] = data_set['win'].astype(int)\n"
     ]
    },
    {
     "data": {
      "text/plain": [
       "(500000, 18)"
      ]
     },
     "execution_count": 12,
     "metadata": {},
     "output_type": "execute_result"
    }
   ],
   "source": [
    "print(len(new_win))\n",
    "data_set['win'] = new_win\n",
    "data_set['win'] = data_set['win'].astype(int)\n",
    "data_set.shape"
   ]
  },
  {
   "cell_type": "code",
   "execution_count": 13,
   "metadata": {},
   "outputs": [],
   "source": [
    "d1 = {}\n",
    "hero = data_set['hero_id']\n",
    "win = data_set['win']\n",
    "#print(hero[0])\n",
    "#print(len(win))\n",
    "for i in range(0, len(hero)):\n",
    "    d1.setdefault(hero[i], []).append(win[i])"
   ]
  },
  {
   "cell_type": "code",
   "execution_count": 14,
   "metadata": {},
   "outputs": [
    {
     "name": "stdout",
     "output_type": "stream",
     "text": [
      "24\n",
      "108\n"
     ]
    }
   ],
   "source": [
    "hero_id = []\n",
    "win_rate = []\n",
    "for i in range(0, 112):\n",
    "    #print(i)\n",
    "    if(i != 24 and i != 108):\n",
    "        elem = sum(d1.get(i))\n",
    "        win_rate.append(elem)\n",
    "        hero_id.append(i)\n",
    "    else:\n",
    "        print(i)"
   ]
  },
  {
   "cell_type": "markdown",
   "metadata": {},
   "source": [
    "# Two Hero ids are missing so we have 110 heroes in the dataset"
   ]
  },
  {
   "cell_type": "code",
   "execution_count": 15,
   "metadata": {},
   "outputs": [],
   "source": [
    "hero_id.append(24)\n",
    "win_rate.append(0)\n",
    "hero_id.append(108)\n",
    "win_rate.append(0)"
   ]
  },
  {
   "cell_type": "code",
   "execution_count": 16,
   "metadata": {},
   "outputs": [
    {
     "data": {
      "image/png": "[encoded data removed]",
      "text/plain": [
       "<Figure size 432x288 with 1 Axes>"
      ]
     },
     "metadata": {
      "needs_background": "light"
     },
     "output_type": "display_data"
    }
   ],
   "source": [
    "#Graphical representation of Heroes versus the number of deaths\n",
    "x = hero_id\n",
    "y = win_rate\n",
    "\n",
    "# plotting points as a scatter plot \n",
    "plt.scatter(x, y, label= \"stars\", color= \"green\",  \n",
    "            marker= \"*\", s=10)\n",
    "# x-axis label \n",
    "plt.xlabel('Heroes', fontsize=18) \n",
    "# frequency label \n",
    "plt.ylabel('Number of Wins', fontsize=18) \n",
    "# plot title \n",
    "plt.title('Graphical representation of Heroes versus Number of Wins', fontsize=18) \n",
    "# showing legend \n",
    "plt.legend() \n",
    "  \n",
    "# function to show the plot \n",
    "plt.show()"
   ]
  },
  {
   "cell_type": "markdown",
   "metadata": {},
   "source": [
    "# Top 5 most popular heroes and their win rate"
   ]
  },
  {
   "cell_type": "code",
   "execution_count": 20,
   "metadata": {},
   "outputs": [
    {
     "name": "stdout",
     "output_type": "stream",
     "text": [
      "    hero_id  win_rate\n",
      "21       21     10026\n",
      "    hero_id  win_rate\n",
      "11       11      8785\n",
      "    hero_id  win_rate\n",
      "73       74      5733\n",
      "   hero_id  win_rate\n",
      "7        7      5700\n",
      "    hero_id  win_rate\n",
      "27       28      6254\n"
     ]
    }
   ],
   "source": [
    "hero_name = hero_names.drop(columns = ['hero_id', 'name'])\n",
    "hero_names.drop([5, 6])\n",
    "hero_name['hero_id'] = hero_id \n",
    "hero_name['win_rate'] = win_rate\n",
    "hero_name = hero_name.drop(columns = ['localized_name'])\n",
    "#print(len(hero_id))\n",
    "#print(hero_name.shape)\n",
    "#hero_name.head(75)\n",
    "hero1 = hero_name.loc[hero_name['hero_id'] == 21]\n",
    "hero2 = hero_name.loc[hero_name['hero_id'] == 11]\n",
    "hero3 = hero_name.loc[hero_name['hero_id'] == 74]\n",
    "hero4 = hero_name.loc[hero_name['hero_id'] == 7]\n",
    "hero5 = hero_name.loc[hero_name['hero_id'] == 28]\n",
    "print (hero1)\n",
    "print (hero2)\n",
    "print (hero3)\n",
    "print (hero4)\n",
    "print (hero5)"
   ]
  },
  {
   "cell_type": "markdown",
   "metadata": {},
   "source": [
    "# Data Cleansing\n",
    "We believe matches that takes less than 15 minutes to finish or/and are abandoned do not add value to the outcome of the game.\n",
    "We are going to use the dataframe.drop_duplicates function to do so. By default, it removes duplicate rows based on all columns."
   ]
  },
  {
   "cell_type": "code",
   "execution_count": 21,
   "metadata": {},
   "outputs": [],
   "source": [
    "dfs_bad_matches = []"
   ]
  },
  {
   "cell_type": "code",
   "execution_count": 22,
   "metadata": {},
   "outputs": [
    {
     "data": {
      "text/html": [
       "<div>\n",
       "<style scoped>\n",
       "    .dataframe tbody tr th:only-of-type {\n",
       "        vertical-align: middle;\n",
       "    }\n",
       "\n",
       "    .dataframe tbody tr th {\n",
       "        vertical-align: top;\n",
       "    }\n",
       "\n",
       "    .dataframe thead th {\n",
       "        text-align: right;\n",
       "    }\n",
       "</style>\n",
       "<table border=\"1\" class=\"dataframe\">\n",
       "  <thead>\n",
       "    <tr style=\"text-align: right;\">\n",
       "      <th></th>\n",
       "      <th>match_id</th>\n",
       "    </tr>\n",
       "  </thead>\n",
       "  <tbody>\n",
       "    <tr>\n",
       "      <th>0</th>\n",
       "      <td>32</td>\n",
       "    </tr>\n",
       "    <tr>\n",
       "      <th>1</th>\n",
       "      <td>36</td>\n",
       "    </tr>\n",
       "    <tr>\n",
       "      <th>2</th>\n",
       "      <td>49</td>\n",
       "    </tr>\n",
       "    <tr>\n",
       "      <th>3</th>\n",
       "      <td>73</td>\n",
       "    </tr>\n",
       "    <tr>\n",
       "      <th>4</th>\n",
       "      <td>91</td>\n",
       "    </tr>\n",
       "    <tr>\n",
       "      <th>...</th>\n",
       "      <td>...</td>\n",
       "    </tr>\n",
       "    <tr>\n",
       "      <th>4621</th>\n",
       "      <td>49954</td>\n",
       "    </tr>\n",
       "    <tr>\n",
       "      <th>4622</th>\n",
       "      <td>49958</td>\n",
       "    </tr>\n",
       "    <tr>\n",
       "      <th>4623</th>\n",
       "      <td>49964</td>\n",
       "    </tr>\n",
       "    <tr>\n",
       "      <th>4624</th>\n",
       "      <td>49975</td>\n",
       "    </tr>\n",
       "    <tr>\n",
       "      <th>4625</th>\n",
       "      <td>49992</td>\n",
       "    </tr>\n",
       "  </tbody>\n",
       "</table>\n",
       "<p>4626 rows × 1 columns</p>\n",
       "</div>"
      ],
      "text/plain": [
       "      match_id\n",
       "0           32\n",
       "1           36\n",
       "2           49\n",
       "3           73\n",
       "4           91\n",
       "...        ...\n",
       "4621     49954\n",
       "4622     49958\n",
       "4623     49964\n",
       "4624     49975\n",
       "4625     49992\n",
       "\n",
       "[4626 rows x 1 columns]"
      ]
     },
     "execution_count": 22,
     "metadata": {},
     "output_type": "execute_result"
    }
   ],
   "source": [
    "abandoned_matches = players[players.leaver_status > 1]\n",
    "abandoned_matches = abandoned_matches[['match_id']]\n",
    "abandoned_matches = abandoned_matches.drop_duplicates().reset_index(drop=True)\n",
    "dfs_bad_matches.append(abandoned_matches)\n",
    "abandoned_matches"
   ]
  },
  {
   "cell_type": "code",
   "execution_count": 23,
   "metadata": {},
   "outputs": [
    {
     "data": {
      "text/html": [
       "<div>\n",
       "<style scoped>\n",
       "    .dataframe tbody tr th:only-of-type {\n",
       "        vertical-align: middle;\n",
       "    }\n",
       "\n",
       "    .dataframe tbody tr th {\n",
       "        vertical-align: top;\n",
       "    }\n",
       "\n",
       "    .dataframe thead th {\n",
       "        text-align: right;\n",
       "    }\n",
       "</style>\n",
       "<table border=\"1\" class=\"dataframe\">\n",
       "  <thead>\n",
       "    <tr style=\"text-align: right;\">\n",
       "      <th></th>\n",
       "      <th>match_id</th>\n",
       "    </tr>\n",
       "  </thead>\n",
       "  <tbody>\n",
       "    <tr>\n",
       "      <th>0</th>\n",
       "      <td>836</td>\n",
       "    </tr>\n",
       "    <tr>\n",
       "      <th>1</th>\n",
       "      <td>1221</td>\n",
       "    </tr>\n",
       "    <tr>\n",
       "      <th>2</th>\n",
       "      <td>1268</td>\n",
       "    </tr>\n",
       "    <tr>\n",
       "      <th>3</th>\n",
       "      <td>1279</td>\n",
       "    </tr>\n",
       "    <tr>\n",
       "      <th>4</th>\n",
       "      <td>1632</td>\n",
       "    </tr>\n",
       "    <tr>\n",
       "      <th>...</th>\n",
       "      <td>...</td>\n",
       "    </tr>\n",
       "    <tr>\n",
       "      <th>127</th>\n",
       "      <td>47925</td>\n",
       "    </tr>\n",
       "    <tr>\n",
       "      <th>128</th>\n",
       "      <td>48315</td>\n",
       "    </tr>\n",
       "    <tr>\n",
       "      <th>129</th>\n",
       "      <td>48879</td>\n",
       "    </tr>\n",
       "    <tr>\n",
       "      <th>130</th>\n",
       "      <td>49112</td>\n",
       "    </tr>\n",
       "    <tr>\n",
       "      <th>131</th>\n",
       "      <td>49865</td>\n",
       "    </tr>\n",
       "  </tbody>\n",
       "</table>\n",
       "<p>132 rows × 1 columns</p>\n",
       "</div>"
      ],
      "text/plain": [
       "     match_id\n",
       "0         836\n",
       "1        1221\n",
       "2        1268\n",
       "3        1279\n",
       "4        1632\n",
       "..        ...\n",
       "127     47925\n",
       "128     48315\n",
       "129     48879\n",
       "130     49112\n",
       "131     49865\n",
       "\n",
       "[132 rows x 1 columns]"
      ]
     },
     "execution_count": 23,
     "metadata": {},
     "output_type": "execute_result"
    }
   ],
   "source": [
    "short_length = 15 * 60\n",
    "short_matches = matches[matches.duration < short_length].reset_index()\n",
    "short_matches = short_matches[['match_id']]\n",
    "dfs_bad_matches.append(short_matches)\n",
    "short_matches"
   ]
  },
  {
   "cell_type": "markdown",
   "metadata": {},
   "source": [
    "# Drop the matches that are abandoned and/or less than 15 minutes. The following code takes more than 10 minutes to execute, we need a way to vectorize this operation."
   ]
  },
  {
   "cell_type": "code",
   "execution_count": 24,
   "metadata": {},
   "outputs": [],
   "source": [
    "bad_match_ids = pd.concat(dfs_bad_matches, ignore_index=True).drop_duplicates()\n",
    "for i in bad_match_ids.match_id:\n",
    "    if(i == 32):\n",
    "        new_players = players[players.match_id != i]\n",
    "    new_players = new_players[new_players.match_id != i]"
   ]
  },
  {
   "cell_type": "markdown",
   "metadata": {},
   "source": [
    "# 46,450 player samples out of 500,000 have been dropped in Players.csv"
   ]
  },
  {
   "cell_type": "code",
   "execution_count": 25,
   "metadata": {},
   "outputs": [
    {
     "data": {
      "text/plain": [
       "(453550, 73)"
      ]
     },
     "execution_count": 25,
     "metadata": {},
     "output_type": "execute_result"
    }
   ],
   "source": [
    "new_players.shape"
   ]
  },
  {
   "cell_type": "markdown",
   "metadata": {},
   "source": [
    "# 4645 matches out of 50,000 have been dropped in matches.csv"
   ]
  },
  {
   "cell_type": "code",
   "execution_count": 26,
   "metadata": {},
   "outputs": [
    {
     "data": {
      "text/plain": [
       "(45355, 12)"
      ]
     },
     "execution_count": 26,
     "metadata": {},
     "output_type": "execute_result"
    }
   ],
   "source": [
    "new_matches = matches.drop(bad_match_ids.match_id)\n",
    "new_matches.shape"
   ]
  },
  {
   "cell_type": "markdown",
   "metadata": {},
   "source": [
    "# We have no null values in features of interest, Good News!"
   ]
  },
  {
   "cell_type": "code",
   "execution_count": 27,
   "metadata": {},
   "outputs": [
    {
     "data": {
      "text/plain": [
       "0"
      ]
     },
     "execution_count": 27,
     "metadata": {},
     "output_type": "execute_result"
    }
   ],
   "source": [
    "new_players['match_id'].isnull().sum()\n",
    "new_players['kills'].isnull().sum()\n",
    "new_players['assists'].isnull().sum()\n",
    "new_players['hero_id'].isnull().sum()\n",
    "new_players['deaths'].isnull().sum()\n",
    "new_players['account_id'].isnull().sum()"
   ]
  },
  {
   "cell_type": "markdown",
   "metadata": {},
   "source": [
    "# Train Set and Test Set\n",
    "In any data science project, we need to have two sets of data to train and test our model. First, we will create two sets data: train_data and test_data. Then we create two sets of labels: train_labels and test_labels."
   ]
  },
  {
   "cell_type": "code",
   "execution_count": 28,
   "metadata": {},
   "outputs": [
    {
     "name": "stdout",
     "output_type": "stream",
     "text": [
      "Players set shape:  (453550, 73)\n",
      "(453550, 17)\n"
     ]
    }
   ],
   "source": [
    "data_set = new_players[['match_id', 'account_id', 'hero_id', 'player_slot', 'gold',\n",
    "       'gold_spent', 'gold_per_min', 'xp_per_min', 'kills', 'deaths',\n",
    "       'assists', 'denies', 'last_hits', 'stuns', 'hero_damage',\n",
    "       'hero_healing', 'tower_damage']]\n",
    "print('Players set shape: ', new_players.shape)\n",
    "print(data_set.shape)"
   ]
  },
  {
   "cell_type": "markdown",
   "metadata": {},
   "source": [
    "# 80% train set, 20% test set"
   ]
  },
  {
   "cell_type": "code",
   "execution_count": 30,
   "metadata": {},
   "outputs": [],
   "source": [
    "train_set, test_set = train_test_split(data_set, test_size=0.2, shuffle=False)\n",
    "#Merging hero_names corresponding to hero_ids into the train and test sets\n",
    "train_set = pd.merge(train_set,hero_names, on = 'hero_id',how = 'left')\n",
    "test_set = pd.merge(test_set,hero_names, on = 'hero_id',how = 'left')"
   ]
  },
  {
   "cell_type": "markdown",
   "metadata": {},
   "source": [
    "# Train Label and Test Label"
   ]
  },
  {
   "cell_type": "code",
   "execution_count": 31,
   "metadata": {},
   "outputs": [],
   "source": [
    "match_id = []\n",
    "for i in range(0, 50000):\n",
    "    match_id.append(i)\n",
    "#data_labels = matches['radiant_win']\n",
    "#data_labels['match_id'] = match_id\n",
    "data_labels = matches.drop(columns = ['start_time', 'duration', 'tower_status_radiant', 'tower_status_dire',\n",
    "       'barracks_status_dire', 'barracks_status_radiant', 'first_blood_time',\n",
    "       'game_mode', 'negative_votes', 'positive_votes',\n",
    "       'cluster'])\n",
    "data_labels['match_id'] = match_id \n",
    "data_labels.head()\n",
    "new_data_labels = data_labels.drop(bad_match_ids.match_id)"
   ]
  },
  {
   "cell_type": "markdown",
   "metadata": {},
   "source": [
    "# 80% Train Label, 20% Test Label"
   ]
  },
  {
   "cell_type": "code",
   "execution_count": 32,
   "metadata": {},
   "outputs": [],
   "source": [
    "train_labels, test_labels = train_test_split(new_data_labels, test_size=0.2, shuffle=False)"
   ]
  },
  {
   "cell_type": "code",
   "execution_count": 33,
   "metadata": {},
   "outputs": [
    {
     "name": "stdout",
     "output_type": "stream",
     "text": [
      "Train set shape:  (362840, 19)\n",
      "Train labels shape:  (36284, 2)\n",
      "Test set shape:  (90710, 19)\n",
      "Test labels shape: (9071, 2)\n"
     ]
    }
   ],
   "source": [
    "print(\"Train set shape: \", train_set.shape)\n",
    "print(\"Train labels shape: \", train_labels.shape)\n",
    "print(\"Test set shape: \", test_set.shape)\n",
    "print(\"Test labels shape:\", test_labels.shape)"
   ]
  },
  {
   "cell_type": "markdown",
   "metadata": {},
   "source": [
    "# Input variables-it includes 3,62,840 samples with 19 features"
   ]
  },
  {
   "cell_type": "code",
   "execution_count": 34,
   "metadata": {
    "scrolled": true
   },
   "outputs": [
    {
     "name": "stdout",
     "output_type": "stream",
     "text": [
      "Input variables:  Index(['match_id', 'account_id', 'hero_id', 'player_slot', 'gold',\n",
      "       'gold_spent', 'gold_per_min', 'xp_per_min', 'kills', 'deaths',\n",
      "       'assists', 'denies', 'last_hits', 'stuns', 'hero_damage',\n",
      "       'hero_healing', 'tower_damage', 'name', 'localized_name'],\n",
      "      dtype='object')\n"
     ]
    },
    {
     "data": {
      "text/html": [
       "<div>\n",
       "<style scoped>\n",
       "    .dataframe tbody tr th:only-of-type {\n",
       "        vertical-align: middle;\n",
       "    }\n",
       "\n",
       "    .dataframe tbody tr th {\n",
       "        vertical-align: top;\n",
       "    }\n",
       "\n",
       "    .dataframe thead th {\n",
       "        text-align: right;\n",
       "    }\n",
       "</style>\n",
       "<table border=\"1\" class=\"dataframe\">\n",
       "  <thead>\n",
       "    <tr style=\"text-align: right;\">\n",
       "      <th></th>\n",
       "      <th>match_id</th>\n",
       "      <th>account_id</th>\n",
       "      <th>hero_id</th>\n",
       "      <th>player_slot</th>\n",
       "      <th>gold</th>\n",
       "      <th>gold_spent</th>\n",
       "      <th>gold_per_min</th>\n",
       "      <th>xp_per_min</th>\n",
       "      <th>kills</th>\n",
       "      <th>deaths</th>\n",
       "      <th>assists</th>\n",
       "      <th>denies</th>\n",
       "      <th>last_hits</th>\n",
       "      <th>stuns</th>\n",
       "      <th>hero_damage</th>\n",
       "      <th>hero_healing</th>\n",
       "      <th>tower_damage</th>\n",
       "      <th>name</th>\n",
       "      <th>localized_name</th>\n",
       "    </tr>\n",
       "  </thead>\n",
       "  <tbody>\n",
       "    <tr>\n",
       "      <th>362835</th>\n",
       "      <td>40003</td>\n",
       "      <td>0</td>\n",
       "      <td>97</td>\n",
       "      <td>128</td>\n",
       "      <td>2994</td>\n",
       "      <td>17740</td>\n",
       "      <td>325</td>\n",
       "      <td>490</td>\n",
       "      <td>2</td>\n",
       "      <td>8</td>\n",
       "      <td>21</td>\n",
       "      <td>1</td>\n",
       "      <td>93</td>\n",
       "      <td>64.0808</td>\n",
       "      <td>5451</td>\n",
       "      <td>0</td>\n",
       "      <td>245</td>\n",
       "      <td>npc_dota_hero_magnataur</td>\n",
       "      <td>Magnus</td>\n",
       "    </tr>\n",
       "    <tr>\n",
       "      <th>362836</th>\n",
       "      <td>40003</td>\n",
       "      <td>0</td>\n",
       "      <td>18</td>\n",
       "      <td>129</td>\n",
       "      <td>3020</td>\n",
       "      <td>24985</td>\n",
       "      <td>554</td>\n",
       "      <td>483</td>\n",
       "      <td>13</td>\n",
       "      <td>14</td>\n",
       "      <td>24</td>\n",
       "      <td>1</td>\n",
       "      <td>515</td>\n",
       "      <td>77.9762</td>\n",
       "      <td>24079</td>\n",
       "      <td>0</td>\n",
       "      <td>7097</td>\n",
       "      <td>npc_dota_hero_sven</td>\n",
       "      <td>Sven</td>\n",
       "    </tr>\n",
       "    <tr>\n",
       "      <th>362837</th>\n",
       "      <td>40003</td>\n",
       "      <td>135549</td>\n",
       "      <td>51</td>\n",
       "      <td>130</td>\n",
       "      <td>2845</td>\n",
       "      <td>24960</td>\n",
       "      <td>396</td>\n",
       "      <td>484</td>\n",
       "      <td>9</td>\n",
       "      <td>8</td>\n",
       "      <td>24</td>\n",
       "      <td>4</td>\n",
       "      <td>188</td>\n",
       "      <td>83.1157</td>\n",
       "      <td>20761</td>\n",
       "      <td>0</td>\n",
       "      <td>1648</td>\n",
       "      <td>npc_dota_hero_rattletrap</td>\n",
       "      <td>Clockwerk</td>\n",
       "    </tr>\n",
       "    <tr>\n",
       "      <th>362838</th>\n",
       "      <td>40003</td>\n",
       "      <td>24111</td>\n",
       "      <td>44</td>\n",
       "      <td>131</td>\n",
       "      <td>5963</td>\n",
       "      <td>29925</td>\n",
       "      <td>645</td>\n",
       "      <td>482</td>\n",
       "      <td>29</td>\n",
       "      <td>11</td>\n",
       "      <td>11</td>\n",
       "      <td>7</td>\n",
       "      <td>436</td>\n",
       "      <td>43.1579</td>\n",
       "      <td>43050</td>\n",
       "      <td>0</td>\n",
       "      <td>4780</td>\n",
       "      <td>npc_dota_hero_phantom_assassin</td>\n",
       "      <td>Phantom Assassin</td>\n",
       "    </tr>\n",
       "    <tr>\n",
       "      <th>362839</th>\n",
       "      <td>40003</td>\n",
       "      <td>135550</td>\n",
       "      <td>5</td>\n",
       "      <td>132</td>\n",
       "      <td>1153</td>\n",
       "      <td>26180</td>\n",
       "      <td>397</td>\n",
       "      <td>466</td>\n",
       "      <td>7</td>\n",
       "      <td>8</td>\n",
       "      <td>17</td>\n",
       "      <td>3</td>\n",
       "      <td>169</td>\n",
       "      <td>4.63364</td>\n",
       "      <td>15000</td>\n",
       "      <td>1595</td>\n",
       "      <td>686</td>\n",
       "      <td>npc_dota_hero_crystal_maiden</td>\n",
       "      <td>Crystal Maiden</td>\n",
       "    </tr>\n",
       "  </tbody>\n",
       "</table>\n",
       "</div>"
      ],
      "text/plain": [
       "        match_id  account_id  hero_id  player_slot  gold  gold_spent  \\\n",
       "362835     40003           0       97          128  2994       17740   \n",
       "362836     40003           0       18          129  3020       24985   \n",
       "362837     40003      135549       51          130  2845       24960   \n",
       "362838     40003       24111       44          131  5963       29925   \n",
       "362839     40003      135550        5          132  1153       26180   \n",
       "\n",
       "        gold_per_min  xp_per_min  kills  deaths  assists  denies  last_hits  \\\n",
       "362835           325         490      2       8       21       1         93   \n",
       "362836           554         483     13      14       24       1        515   \n",
       "362837           396         484      9       8       24       4        188   \n",
       "362838           645         482     29      11       11       7        436   \n",
       "362839           397         466      7       8       17       3        169   \n",
       "\n",
       "          stuns  hero_damage  hero_healing  tower_damage  \\\n",
       "362835  64.0808         5451             0           245   \n",
       "362836  77.9762        24079             0          7097   \n",
       "362837  83.1157        20761             0          1648   \n",
       "362838  43.1579        43050             0          4780   \n",
       "362839  4.63364        15000          1595           686   \n",
       "\n",
       "                                  name    localized_name  \n",
       "362835         npc_dota_hero_magnataur            Magnus  \n",
       "362836              npc_dota_hero_sven              Sven  \n",
       "362837        npc_dota_hero_rattletrap         Clockwerk  \n",
       "362838  npc_dota_hero_phantom_assassin  Phantom Assassin  \n",
       "362839    npc_dota_hero_crystal_maiden    Crystal Maiden  "
      ]
     },
     "execution_count": 34,
     "metadata": {},
     "output_type": "execute_result"
    }
   ],
   "source": [
    "print(\"Input variables: \", train_set.columns)\n",
    "train_set.tail()"
   ]
  },
  {
   "cell_type": "markdown",
   "metadata": {},
   "source": [
    "# radiant_win is the target variable-Expected Output-36284 labels"
   ]
  },
  {
   "cell_type": "code",
   "execution_count": 37,
   "metadata": {},
   "outputs": [
    {
     "data": {
      "text/html": [
       "<div>\n",
       "<style scoped>\n",
       "    .dataframe tbody tr th:only-of-type {\n",
       "        vertical-align: middle;\n",
       "    }\n",
       "\n",
       "    .dataframe tbody tr th {\n",
       "        vertical-align: top;\n",
       "    }\n",
       "\n",
       "    .dataframe thead th {\n",
       "        text-align: right;\n",
       "    }\n",
       "</style>\n",
       "<table border=\"1\" class=\"dataframe\">\n",
       "  <thead>\n",
       "    <tr style=\"text-align: right;\">\n",
       "      <th></th>\n",
       "      <th>radiant_win</th>\n",
       "      <th>match_id</th>\n",
       "    </tr>\n",
       "    <tr>\n",
       "      <th>match_id</th>\n",
       "      <th></th>\n",
       "      <th></th>\n",
       "    </tr>\n",
       "  </thead>\n",
       "  <tbody>\n",
       "    <tr>\n",
       "      <th>0</th>\n",
       "      <td>True</td>\n",
       "      <td>0</td>\n",
       "    </tr>\n",
       "    <tr>\n",
       "      <th>1</th>\n",
       "      <td>False</td>\n",
       "      <td>1</td>\n",
       "    </tr>\n",
       "    <tr>\n",
       "      <th>2</th>\n",
       "      <td>False</td>\n",
       "      <td>2</td>\n",
       "    </tr>\n",
       "    <tr>\n",
       "      <th>3</th>\n",
       "      <td>False</td>\n",
       "      <td>3</td>\n",
       "    </tr>\n",
       "    <tr>\n",
       "      <th>4</th>\n",
       "      <td>True</td>\n",
       "      <td>4</td>\n",
       "    </tr>\n",
       "  </tbody>\n",
       "</table>\n",
       "</div>"
      ],
      "text/plain": [
       "          radiant_win  match_id\n",
       "match_id                       \n",
       "0                True         0\n",
       "1               False         1\n",
       "2               False         2\n",
       "3               False         3\n",
       "4                True         4"
      ]
     },
     "execution_count": 37,
     "metadata": {},
     "output_type": "execute_result"
    }
   ],
   "source": [
    "train_labels.head()"
   ]
  },
  {
   "cell_type": "markdown",
   "metadata": {},
   "source": [
    "# We believe our data is ready to feed in for Logistic Regression"
   ]
  },
  {
   "cell_type": "code",
   "execution_count": 38,
   "metadata": {},
   "outputs": [],
   "source": [
    "new_win = []\n",
    "radiant_win = new_matches['radiant_win']\n",
    "for i in radiant_win:\n",
    "    for j in range(0, 5):\n",
    "        new_win.append(i)\n",
    "    if(i == False):\n",
    "        for k in range(0, 5):\n",
    "            new_win.append(True)\n",
    "    else:\n",
    "        for k in range(0, 5):\n",
    "            new_win.append(False)"
   ]
  },
  {
   "cell_type": "code",
   "execution_count": 39,
   "metadata": {},
   "outputs": [
    {
     "name": "stdout",
     "output_type": "stream",
     "text": [
      "453550\n"
     ]
    },
    {
     "name": "stderr",
     "output_type": "stream",
     "text": [
      "<ipython-input-39-191b722fdd20>:2: SettingWithCopyWarning: \n",
      "A value is trying to be set on a copy of a slice from a DataFrame.\n",
      "Try using .loc[row_indexer,col_indexer] = value instead\n",
      "\n",
      "See the caveats in the documentation: https://pandas.pydata.org/pandas-docs/stable/user_guide/indexing.html#returning-a-view-versus-a-copy\n",
      "  data_set['win'] = new_win\n",
      "<ipython-input-39-191b722fdd20>:3: SettingWithCopyWarning: \n",
      "A value is trying to be set on a copy of a slice from a DataFrame.\n",
      "Try using .loc[row_indexer,col_indexer] = value instead\n",
      "\n",
      "See the caveats in the documentation: https://pandas.pydata.org/pandas-docs/stable/user_guide/indexing.html#returning-a-view-versus-a-copy\n",
      "  data_set['win'] = data_set['win'].astype(int)\n"
     ]
    },
    {
     "data": {
      "text/plain": [
       "(453550, 18)"
      ]
     },
     "execution_count": 39,
     "metadata": {},
     "output_type": "execute_result"
    }
   ],
   "source": [
    "print(len(new_win))\n",
    "data_set['win'] = new_win\n",
    "data_set['win'] = data_set['win'].astype(int)\n",
    "data_set.shape"
   ]
  },
  {
   "cell_type": "markdown",
   "metadata": {},
   "source": [
    "# Calculating Mean based on Win Rate"
   ]
  },
  {
   "cell_type": "code",
   "execution_count": 40,
   "metadata": {},
   "outputs": [
    {
     "data": {
      "text/html": [
       "<div>\n",
       "<style scoped>\n",
       "    .dataframe tbody tr th:only-of-type {\n",
       "        vertical-align: middle;\n",
       "    }\n",
       "\n",
       "    .dataframe tbody tr th {\n",
       "        vertical-align: top;\n",
       "    }\n",
       "\n",
       "    .dataframe thead th {\n",
       "        text-align: right;\n",
       "    }\n",
       "</style>\n",
       "<table border=\"1\" class=\"dataframe\">\n",
       "  <thead>\n",
       "    <tr style=\"text-align: right;\">\n",
       "      <th></th>\n",
       "      <th>match_id</th>\n",
       "      <th>account_id</th>\n",
       "      <th>hero_id</th>\n",
       "      <th>player_slot</th>\n",
       "      <th>gold</th>\n",
       "      <th>gold_spent</th>\n",
       "      <th>gold_per_min</th>\n",
       "      <th>xp_per_min</th>\n",
       "      <th>kills</th>\n",
       "      <th>deaths</th>\n",
       "      <th>assists</th>\n",
       "      <th>denies</th>\n",
       "      <th>last_hits</th>\n",
       "      <th>hero_damage</th>\n",
       "      <th>hero_healing</th>\n",
       "      <th>tower_damage</th>\n",
       "    </tr>\n",
       "    <tr>\n",
       "      <th>win</th>\n",
       "      <th></th>\n",
       "      <th></th>\n",
       "      <th></th>\n",
       "      <th></th>\n",
       "      <th></th>\n",
       "      <th></th>\n",
       "      <th></th>\n",
       "      <th></th>\n",
       "      <th></th>\n",
       "      <th></th>\n",
       "      <th></th>\n",
       "      <th></th>\n",
       "      <th></th>\n",
       "      <th></th>\n",
       "      <th></th>\n",
       "      <th></th>\n",
       "    </tr>\n",
       "  </thead>\n",
       "  <tbody>\n",
       "    <tr>\n",
       "      <th>0</th>\n",
       "      <td>25058.74887</td>\n",
       "      <td>39710.217991</td>\n",
       "      <td>50.490976</td>\n",
       "      <td>68.45953</td>\n",
       "      <td>1004.107913</td>\n",
       "      <td>12049.552574</td>\n",
       "      <td>348.442337</td>\n",
       "      <td>398.436009</td>\n",
       "      <td>5.919916</td>\n",
       "      <td>9.263146</td>\n",
       "      <td>9.586339</td>\n",
       "      <td>4.907119</td>\n",
       "      <td>122.385272</td>\n",
       "      <td>10949.817762</td>\n",
       "      <td>355.986952</td>\n",
       "      <td>456.650932</td>\n",
       "    </tr>\n",
       "    <tr>\n",
       "      <th>1</th>\n",
       "      <td>25058.74887</td>\n",
       "      <td>40210.361971</td>\n",
       "      <td>50.717341</td>\n",
       "      <td>63.54047</td>\n",
       "      <td>2793.121270</td>\n",
       "      <td>16368.707199</td>\n",
       "      <td>481.523753</td>\n",
       "      <td>506.793271</td>\n",
       "      <td>8.996084</td>\n",
       "      <td>6.201698</td>\n",
       "      <td>14.273946</td>\n",
       "      <td>5.489119</td>\n",
       "      <td>139.394510</td>\n",
       "      <td>13737.931611</td>\n",
       "      <td>597.428266</td>\n",
       "      <td>2193.190969</td>\n",
       "    </tr>\n",
       "  </tbody>\n",
       "</table>\n",
       "</div>"
      ],
      "text/plain": [
       "        match_id    account_id    hero_id  player_slot         gold  \\\n",
       "win                                                                   \n",
       "0    25058.74887  39710.217991  50.490976     68.45953  1004.107913   \n",
       "1    25058.74887  40210.361971  50.717341     63.54047  2793.121270   \n",
       "\n",
       "       gold_spent  gold_per_min  xp_per_min     kills    deaths    assists  \\\n",
       "win                                                                          \n",
       "0    12049.552574    348.442337  398.436009  5.919916  9.263146   9.586339   \n",
       "1    16368.707199    481.523753  506.793271  8.996084  6.201698  14.273946   \n",
       "\n",
       "       denies   last_hits   hero_damage  hero_healing  tower_damage  \n",
       "win                                                                  \n",
       "0    4.907119  122.385272  10949.817762    355.986952    456.650932  \n",
       "1    5.489119  139.394510  13737.931611    597.428266   2193.190969  "
      ]
     },
     "execution_count": 40,
     "metadata": {},
     "output_type": "execute_result"
    }
   ],
   "source": [
    "data_set_mean  = data_set.groupby('win').mean()\n",
    "data_set_mean.head()"
   ]
  },
  {
   "cell_type": "code",
   "execution_count": null,
   "metadata": {},
   "outputs": [],
   "source": []
  }
 ],
 "metadata": {
  "kernelspec": {
   "display_name": "Python 3",
   "language": "python",
   "name": "python3"
  },
  "language_info": {
   "codemirror_mode": {
    "name": "ipython",
    "version": 3
   },
   "file_extension": ".py",
   "mimetype": "text/x-python",
   "name": "python",
   "nbconvert_exporter": "python",
   "pygments_lexer": "ipython3",
   "version": "3.8.1"
  }
 },
 "nbformat": 4,
 "nbformat_minor": 4
}
