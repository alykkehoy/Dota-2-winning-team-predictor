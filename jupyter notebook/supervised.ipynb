{
 "cells": [
  {
   "cell_type": "code",
   "execution_count": 12,
   "metadata": {},
   "outputs": [],
   "source": [
    "import pandas as pd"
   ]
  },
  {
   "cell_type": "code",
   "execution_count": 13,
   "metadata": {},
   "outputs": [
    {
     "name": "stdout",
     "output_type": "stream",
     "text": [
      "0.5207812590827181\n"
     ]
    }
   ],
   "source": [
    "dota2_matches = pd.read_csv('C:/Users/ashis/Documents/Data/new_match_list.csv')\n",
    "radiant_win = dota2_matches['r_win']\n",
    "X = dota2_matches.iloc[:, 0:10].values \n",
    "labels = radiant_win.values.astype(int)\n",
    "\n",
    "from sklearn import preprocessing\n",
    "normalized_x = preprocessing.normalize(X)\n",
    "normalized_x.shape\n",
    "from sklearn.model_selection import train_test_split\n",
    "x_train, x_test, y_train, y_test = train_test_split(normalized_x, labels, test_size=0.3, random_state=0)\n",
    "\n",
    "# train a logistic regression model on the training set\n",
    "import pickle\n",
    "# load the model from disk\n",
    "filename = 'Dota2_supervised.sav'\n",
    "loaded_model = pickle.load(open(filename, 'rb'))\n",
    "result = loaded_model.score(x_test, y_test)\n",
    "print(result)"
   ]
  },
  {
   "cell_type": "code",
   "execution_count": 25,
   "metadata": {},
   "outputs": [
    {
     "name": "stdout",
     "output_type": "stream",
     "text": [
      "Dota2 Match Predictor\n",
      "**********************\n",
      "Enter Hero names:\n",
      "Sniper\n",
      "Kunkka\n",
      "Witch Doctor\n",
      "Beastmaster\n",
      "Sven\n",
      "Storm Spirit\n",
      "Nature's Prophet\n",
      "Dragon Knight\n",
      "Lion\n",
      "Ancient Apparition\n",
      "Radiant_Win,  Model Accuracy:  0.5207812590827181\n"
     ]
    }
   ],
   "source": [
    "print('Dota2 Match Predictor')\n",
    "print('**********************')\n",
    "print('Enter Hero names:')\n",
    "hero_list = []\n",
    "\n",
    "heros = pd.read_csv('C:/Users/ashis/Documents/Data/hero_names.csv')\n",
    "for i in range(0, 10):\n",
    "    hero = input()\n",
    "    hero_list.append(hero)\n",
    "get_row = []\n",
    "get_col = []\n",
    "for item in hero_list:\n",
    "    get_row.append(heros.loc[heros['localized_name'] == item])\n",
    "    #print(get_row)\n",
    "a = get_row[0]['hero_id'].tolist()\n",
    "for item in get_row:\n",
    "    a = item['hero_id'].tolist()\n",
    "    get_col.append(a[0])\n",
    "    \n",
    "get_row = []\n",
    "get_col = []\n",
    "for item in hero_list:\n",
    "    get_row.append(heros.loc[heros['localized_name'] == item])\n",
    "    #print(get_row)\n",
    "a = get_row[0]['hero_id'].tolist()\n",
    "for item in get_row:\n",
    "    a = item['hero_id'].tolist()\n",
    "    get_col.append(a[0])\n",
    "    \n",
    "player1 = []\n",
    "player2 = []\n",
    "player3 = []\n",
    "player4 = []\n",
    "player5 = []\n",
    "player6 = []\n",
    "player7 = []\n",
    "player8 = []\n",
    "player9 = []\n",
    "player10 =[]\n",
    "\n",
    "i = 0\n",
    "while(i < 10):\n",
    "        player1.append(get_col[i])\n",
    "        i += 1\n",
    "        player2.append(get_col[i])\n",
    "        i += 1\n",
    "        player3.append(get_col[i])\n",
    "        i += 1\n",
    "        player4.append(get_col[i])\n",
    "        i += 1\n",
    "        player5.append(get_col[i])\n",
    "        i += 1\n",
    "        player6.append(get_col[i])\n",
    "        i += 1\n",
    "        player7.append(get_col[i])\n",
    "        i += 1\n",
    "        player8.append(get_col[i])\n",
    "        i += 1\n",
    "        player9.append(get_col[i])\n",
    "        i += 1\n",
    "        player10.append(get_col[i])\n",
    "        i += 1\n",
    "            \n",
    "csv = { #'cluster': cluster,\n",
    "        'Radiant1': player1,\n",
    "        'Radiant2': player2,\n",
    "        'Radiant3': player3,\n",
    "        'Radiant4': player4,\n",
    "        'Radiant5': player5,\n",
    "        'Dire6': player6,\n",
    "        'Dire7': player7,\n",
    "        'Dire8': player8,\n",
    "        'Dire9': player9,\n",
    "        'Dire10':player10,\n",
    "        }\n",
    "\n",
    "df = pd.DataFrame(csv, columns= ['Radiant1', 'Radiant2', 'Radiant3', 'Radiant4', 'Radiant5', 'Dire6', 'Dire7', 'Dire8', 'Dire9', 'Dire10'])\n",
    "        \n",
    "df.to_csv (r'C:/Users/ashis/Documents/Data/user_input.csv', index = False, header=True)\n",
    "\n",
    "userInput = pd.read_csv('C:/Users/ashis/Documents/Data/user_input.csv')\n",
    "user_input = userInput.iloc[:, 0:10].values \n",
    "normalized_input = preprocessing.normalize(user_input)\n",
    "normalized_input = np.array(normalized_input, np.float32)\n",
    "normalized_input = normalized_input.reshape([-1, 10])\n",
    "normalized_input = normalized_input/255.\n",
    "#pred = logistic_regression(normalized_input)\n",
    "predict = loaded_model.predict(normalized_input)\n",
    "if(predict[0] == 1):\n",
    "    print(\"Radiant Win, \", \" Model Accuracy: \", loaded_model.score(x_test, y_test))\n",
    "else:\n",
    "    print(\"Dire Win, \", \" Model Accuracy: \", loaded_model.score(x_test, y_test))"
   ]
  },
  {
   "cell_type": "code",
   "execution_count": null,
   "metadata": {},
   "outputs": [],
   "source": []
  }
 ],
 "metadata": {
  "kernelspec": {
   "display_name": "Python 3",
   "language": "python",
   "name": "python3"
  },
  "language_info": {
   "codemirror_mode": {
    "name": "ipython",
    "version": 3
   },
   "file_extension": ".py",
   "mimetype": "text/x-python",
   "name": "python",
   "nbconvert_exporter": "python",
   "pygments_lexer": "ipython3",
   "version": "3.8.1"
  }
 },
 "nbformat": 4,
 "nbformat_minor": 4
}
